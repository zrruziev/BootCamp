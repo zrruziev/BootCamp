{
  "cells": [
    {
      "cell_type": "markdown",
      "metadata": {
        "id": "view-in-github",
        "colab_type": "text"
      },
      "source": [
        "<a href=\"https://colab.research.google.com/github/zrruziev/BootCamp/blob/main/PYTORCH/pytorch_official/001_quickstart.ipynb\" target=\"_parent\"><img src=\"https://colab.research.google.com/assets/colab-badge.svg\" alt=\"Open In Colab\"/></a>"
      ]
    },
    {
      "cell_type": "markdown",
      "id": "f4c090dd",
      "metadata": {
        "id": "f4c090dd"
      },
      "source": [
        "### Setup"
      ]
    },
    {
      "cell_type": "code",
      "execution_count": 1,
      "id": "92a53a31",
      "metadata": {
        "id": "92a53a31"
      },
      "outputs": [],
      "source": [
        "import os\n",
        "import torch\n",
        "from torch import nn\n",
        "from torch.nn import functional as F\n",
        "from torch.utils.data import DataLoader\n",
        "from torchvision import datasets\n",
        "from torchvision.transforms import ToTensor"
      ]
    },
    {
      "cell_type": "markdown",
      "id": "82c793e1",
      "metadata": {
        "id": "82c793e1"
      },
      "source": [
        "### Download the Dataset"
      ]
    },
    {
      "cell_type": "code",
      "execution_count": 2,
      "id": "049e90f6",
      "metadata": {
        "scrolled": true,
        "id": "049e90f6"
      },
      "outputs": [],
      "source": [
        "# Download training data from open datasets\n",
        "training_data = datasets.FashionMNIST(\n",
        "    root=\"data\",\n",
        "    train=True,\n",
        "    download=True,\n",
        "    transform=ToTensor(),\n",
        ")\n",
        "\n",
        "# Download test data from open datasets\n",
        "test_data = datasets.FashionMNIST(\n",
        "    root=\"data\",\n",
        "    train=False,\n",
        "    download=True,\n",
        "    transform=ToTensor(),\n",
        ")"
      ]
    },
    {
      "cell_type": "markdown",
      "id": "d1f989f3",
      "metadata": {
        "id": "d1f989f3"
      },
      "source": [
        "### Prepare DataLoaders"
      ]
    },
    {
      "cell_type": "code",
      "execution_count": 3,
      "id": "dda768f1",
      "metadata": {
        "colab": {
          "base_uri": "https://localhost:8080/"
        },
        "id": "dda768f1",
        "outputId": "ded34406-ce90-45ac-f6e7-4c14f8507048"
      },
      "outputs": [
        {
          "output_type": "stream",
          "name": "stdout",
          "text": [
            "Shape of X [BS, C, H, W]: torch.Size([64, 1, 28, 28])\n",
            "Shape of y torch.Size([64]), torch.int64\n"
          ]
        }
      ],
      "source": [
        "batch_size = 64\n",
        "\n",
        "# Create data loaders\n",
        "train_dataloader = DataLoader(training_data, batch_size=batch_size)\n",
        "test_dataloader = DataLoader(test_data, batch_size=batch_size)\n",
        "\n",
        "for X, y in test_dataloader:\n",
        "    print(f\"Shape of X [BS, C, H, W]: {X.shape}\")\n",
        "    print(f\"Shape of y {y.shape}, {y.dtype}\")\n",
        "    break"
      ]
    },
    {
      "cell_type": "markdown",
      "id": "f23d5807",
      "metadata": {
        "id": "f23d5807"
      },
      "source": [
        "### Create a Model"
      ]
    },
    {
      "cell_type": "code",
      "execution_count": 4,
      "id": "63d944d0",
      "metadata": {
        "colab": {
          "base_uri": "https://localhost:8080/"
        },
        "id": "63d944d0",
        "outputId": "5b080c0b-f559-419a-c36b-770a9f39bbc2"
      },
      "outputs": [
        {
          "output_type": "stream",
          "name": "stdout",
          "text": [
            "device: cuda\n",
            "\n",
            "SimpleNN(\n",
            "  (flatten): Flatten(start_dim=1, end_dim=-1)\n",
            "  (linear_relu_stack): Sequential(\n",
            "    (0): Linear(in_features=784, out_features=512, bias=True)\n",
            "    (1): ReLU()\n",
            "    (2): Linear(in_features=512, out_features=512, bias=True)\n",
            "    (3): ReLU()\n",
            "    (4): Linear(in_features=512, out_features=10, bias=True)\n",
            "  )\n",
            ")\n"
          ]
        }
      ],
      "source": [
        "# Get cpu or gpu device for training\n",
        "device = \"cuda\" if torch.cuda.is_available() else \"mps\" if torch.backends.mps.is_available()else \"cpu\"\n",
        "\n",
        "# Fashion_MNIST dataset has 10 classes\n",
        "num_of_classes = 10\n",
        "\n",
        "# Define model\n",
        "class SimpleNN(nn.Module):\n",
        "    def __init__(self):\n",
        "        super().__init__()\n",
        "        self.flatten = nn.Flatten()\n",
        "        self.linear_relu_stack = nn.Sequential(\n",
        "        nn.Linear(28*28, 512),\n",
        "        nn.ReLU(),\n",
        "        nn.Linear(512, 512),\n",
        "        nn.ReLU(),\n",
        "        nn.Linear(512, num_of_classes),\n",
        "        )\n",
        "    def forward(self, inputs):\n",
        "        x = self.flatten(inputs)\n",
        "        logits = self.linear_relu_stack(x)\n",
        "        return logits\n",
        "\n",
        "print(f\"device: {device}\\n\")    \n",
        "model = SimpleNN().to(device)\n",
        "print(model)\n",
        "        \n",
        "        "
      ]
    },
    {
      "cell_type": "markdown",
      "id": "7e6f0615",
      "metadata": {
        "id": "7e6f0615"
      },
      "source": [
        "### Define loss and optimizer"
      ]
    },
    {
      "cell_type": "code",
      "execution_count": 5,
      "id": "99f3955f",
      "metadata": {
        "id": "99f3955f"
      },
      "outputs": [],
      "source": [
        "loss_fn = nn.CrossEntropyLoss()\n",
        "optimizer = torch.optim.SGD(model.parameters(), lr=1e-3)"
      ]
    },
    {
      "cell_type": "markdown",
      "id": "4b24e686",
      "metadata": {
        "id": "4b24e686"
      },
      "source": [
        "### Train the model"
      ]
    },
    {
      "cell_type": "code",
      "execution_count": 6,
      "id": "88543e08",
      "metadata": {
        "scrolled": false,
        "colab": {
          "base_uri": "https://localhost:8080/"
        },
        "id": "88543e08",
        "outputId": "eacf7521-b5e0-4975-a870-77fd36374b6a"
      },
      "outputs": [
        {
          "output_type": "stream",
          "name": "stdout",
          "text": [
            "Epoch 1\n",
            "----------------------------\n",
            "loss: 2.171565 [57600/60000] ==> Avg loss: 2.169830  Accuracy: 36% \n",
            "\n",
            "Epoch 2\n",
            "----------------------------\n",
            "loss: 1.922358 [57600/60000] ==> Avg loss: 1.922210  Accuracy: 57% \n",
            "\n",
            "Epoch 3\n",
            "----------------------------\n",
            "loss: 1.536394 [57600/60000] ==> Avg loss: 1.553915  Accuracy: 63% \n",
            "\n",
            "Epoch 4\n",
            "----------------------------\n",
            "loss: 1.246457 [57600/60000] ==> Avg loss: 1.274732  Accuracy: 63% \n",
            "\n",
            "Epoch 5\n",
            "----------------------------\n",
            "loss: 1.080672 [57600/60000] ==> Avg loss: 1.102366  Accuracy: 64% \n",
            "\n"
          ]
        }
      ],
      "source": [
        "epochs = 5\n",
        "\n",
        "for epoch in range(epochs):\n",
        "    print(f\"Epoch {epoch+1}\\n----------------------------\")\n",
        "    \n",
        "    # Train Loop\n",
        "    size = len(train_dataloader.dataset)\n",
        "    # Set train mode\n",
        "    model.train()\n",
        "    for batch, (X, y) in enumerate(train_dataloader):\n",
        "        X, y = X.to(device), y.to(device)\n",
        "        #Compute pred error\n",
        "        pred = model(X)\n",
        "        loss = loss_fn(pred, y)\n",
        "        # Backpropagation\n",
        "        optimizer.zero_grad()\n",
        "        loss.backward()\n",
        "        optimizer.step()\n",
        "        # Print some logs\n",
        "        if batch % 100 == 0:\n",
        "            loss, current = loss.item(), batch*len(X)\n",
        "            print(f\"\\rloss: {loss:>7f} [{current:>5d}/{size:>5d}]\", end=\"\")\n",
        "            \n",
        "    # Validation Loop\n",
        "    size = len(test_dataloader.dataset)\n",
        "    num_batches = len(test_dataloader)\n",
        "    # Set evaluation mode\n",
        "    model.eval()\n",
        "    test_loss, correct = 0, 0\n",
        "    with torch.no_grad():\n",
        "        for X, y in test_dataloader:\n",
        "            X, y = X.to(device), y.to(device)\n",
        "            pred = model(X)\n",
        "            test_loss += loss_fn(pred, y)\n",
        "            correct += (pred.argmax(1) == y).type(torch.float).sum().item()\n",
        "    test_loss /= num_batches\n",
        "    correct /= size\n",
        "    print(f\" ==> Avg loss: {test_loss:>8f}  Accuracy: {correct:.0%} \\n\")"
      ]
    },
    {
      "cell_type": "markdown",
      "id": "6b420461",
      "metadata": {
        "id": "6b420461"
      },
      "source": [
        "### Save the model"
      ]
    },
    {
      "cell_type": "code",
      "execution_count": 7,
      "id": "66a36fad",
      "metadata": {
        "colab": {
          "base_uri": "https://localhost:8080/"
        },
        "id": "66a36fad",
        "outputId": "d4b76c80-529b-4bc3-e155-e579d147e734"
      },
      "outputs": [
        {
          "output_type": "stream",
          "name": "stdout",
          "text": [
            "Saved Model Path: /content/model.pth\n"
          ]
        }
      ],
      "source": [
        "torch.save(model.state_dict(), \"model.pth\")\n",
        "print(f\"Saved Model Path: {os.path.abspath('./model.pth')}\")"
      ]
    },
    {
      "cell_type": "markdown",
      "id": "affd718f",
      "metadata": {
        "id": "affd718f"
      },
      "source": [
        "### Load the model"
      ]
    },
    {
      "cell_type": "code",
      "execution_count": 8,
      "id": "bcedba98",
      "metadata": {
        "colab": {
          "base_uri": "https://localhost:8080/"
        },
        "id": "bcedba98",
        "outputId": "f013d84c-48e1-43ff-9df7-3d0b0041d5f3"
      },
      "outputs": [
        {
          "output_type": "execute_result",
          "data": {
            "text/plain": [
              "<All keys matched successfully>"
            ]
          },
          "metadata": {},
          "execution_count": 8
        }
      ],
      "source": [
        "model = SimpleNN()\n",
        "model.load_state_dict(torch.load(\"model.pth\"))"
      ]
    },
    {
      "cell_type": "markdown",
      "id": "0a0cc5ab",
      "metadata": {
        "id": "0a0cc5ab"
      },
      "source": [
        "### Prediction"
      ]
    },
    {
      "cell_type": "code",
      "execution_count": 9,
      "id": "9402fe53",
      "metadata": {
        "colab": {
          "base_uri": "https://localhost:8080/"
        },
        "id": "9402fe53",
        "outputId": "51977ce6-d001-4f2c-ebc7-3fc897e4c6f9"
      },
      "outputs": [
        {
          "output_type": "stream",
          "name": "stdout",
          "text": [
            "\n",
            "Actual    : Ankle boot\n",
            "Predicted : Ankle boot-39%\n",
            "\n",
            "Actual    : Pullover\n",
            "Predicted : Pullover-43%\n",
            "\n",
            "Actual    : Trouser\n",
            "Predicted : Trouser-73%\n",
            "\n",
            "Actual    : Trouser\n",
            "Predicted : Trouser-63%\n",
            "\n",
            "Actual    : Shirt\n",
            "Predicted : Pullover-23%\n"
          ]
        }
      ],
      "source": [
        "classes = [\n",
        "    \"T-shirt/top\",\n",
        "    \"Trouser\",\n",
        "    \"Pullover\",\n",
        "    \"Dress\",\n",
        "    \"Coat\",\n",
        "    \"Sandal\",\n",
        "    \"Shirt\",\n",
        "    \"Sneaker\",\n",
        "    \"Bag\",\n",
        "    \"Ankle boot\",\n",
        "]\n",
        "\n",
        "model.eval()\n",
        "\n",
        "test_data_iter = iter(test_data)\n",
        "\n",
        "n = 5\n",
        "for i, (x, y) in enumerate(test_data_iter):\n",
        "    if i == n:\n",
        "        break\n",
        "        \n",
        "    with torch.inference_mode():  # torch.no_grad()\n",
        "        pred = model(x)\n",
        "        score = F.softmax(pred, dim=1).max()\n",
        "        predicted, actual = classes[pred[0].argmax(0)], classes[y]\n",
        "        print(f'\\nActual    : {actual}\\nPredicted : {predicted}-{score:.0%}')\n",
        "    "
      ]
    },
    {
      "cell_type": "code",
      "execution_count": 9,
      "id": "d16a94ae",
      "metadata": {
        "id": "d16a94ae"
      },
      "outputs": [],
      "source": []
    }
  ],
  "metadata": {
    "kernelspec": {
      "display_name": "Python 3 (ipykernel)",
      "language": "python",
      "name": "python3"
    },
    "language_info": {
      "codemirror_mode": {
        "name": "ipython",
        "version": 3
      },
      "file_extension": ".py",
      "mimetype": "text/x-python",
      "name": "python",
      "nbconvert_exporter": "python",
      "pygments_lexer": "ipython3",
      "version": "3.8.16"
    },
    "colab": {
      "provenance": [],
      "include_colab_link": true
    },
    "accelerator": "GPU",
    "gpuClass": "standard"
  },
  "nbformat": 4,
  "nbformat_minor": 5
}